{
 "cells": [
  {
   "cell_type": "markdown",
   "metadata": {},
   "source": [
    "Experiments for setting up prototypical networks"
   ]
  },
  {
   "cell_type": "code",
   "execution_count": 1,
   "metadata": {},
   "outputs": [],
   "source": [
    "import sys\n",
    "import numpy as np\n",
    "import seaborn as sns\n",
    "import matplotlib.pyplot as plt\n",
    "from sklearn import mixture"
   ]
  },
  {
   "cell_type": "code",
   "execution_count": 2,
   "metadata": {},
   "outputs": [],
   "source": [
    "sns.set(color_codes=True)"
   ]
  },
  {
   "cell_type": "code",
   "execution_count": 3,
   "metadata": {},
   "outputs": [],
   "source": [
    "COMPUTE_ENGINE_SRC_PATH = \"../\"\n",
    "\n",
    "if COMPUTE_ENGINE_SRC_PATH not in sys.path:\n",
    "    sys.path.append(COMPUTE_ENGINE_SRC_PATH)\n",
    "else:\n",
    "    print(\"Path='{0}' already in system path \".format(COMPUTE_ENGINE_SRC_PATH))"
   ]
  },
  {
   "cell_type": "code",
   "execution_count": 4,
   "metadata": {},
   "outputs": [],
   "source": [
    "from compute_engine.src.utils import load_data_file\n",
    "from compute_engine.src.utils import make_data_array"
   ]
  },
  {
   "cell_type": "markdown",
   "metadata": {},
   "source": [
    "### Load the data"
   ]
  },
  {
   "cell_type": "code",
   "execution_count": 5,
   "metadata": {},
   "outputs": [],
   "source": [
    "# TUF region data\n",
    "wga_mu_tuf_file = \"../data/train/wga_windows_mean_0_TUF_I_CHR_1_MEAN_CUTOFF.txt\"\n",
    "nowga_mu_tuf_file = \"../data/train/no_wga_windows_mean_0_TUF_I_CHR_1_MEAN_CUTOFF.txt\"\n",
    "\n",
    "# single copy deletion data\n",
    "wga_mu_single_copy_del_file = \"../data/train/wga_windows_mean_0_SINGLE_COPY_DELETION_CHR_2_MEAN_CUTOFF.txt\"\n",
    "nowga_mu_single_copy_del_file = \"../data/train/no_wga_windows_mean_0_SINGLE_COPY_DELETION_CHR_2_MEAN_CUTOFF.txt\"\n",
    "\n",
    "# duplication data\n",
    "wga_mu_duplication_file = \"../data/train/wga_windows_mean_0_DUPLICATION_CHR_1_MEAN_CUTOFF.txt\"\n",
    "nowga_mu_duplication_file = \"../data/train/no_wga_windows_mean_0_DUPLICATION_CHR_1_MEAN_CUTOFF.txt\"\n",
    "\n",
    "# full copy deletion data\n",
    "wga_mu_del_file = \"../data/train/wga_windows_mean_0_DELETE_CHR_1_MEAN_CUTOFF.txt\"\n",
    "nowga_mu_del_file = \"../data/train/no_wga_windows_mean_0_DELETE_CHR_1_MEAN_CUTOFF.txt\""
   ]
  },
  {
   "cell_type": "code",
   "execution_count": 6,
   "metadata": {},
   "outputs": [],
   "source": [
    "wga_mu_tuf = load_data_file(filename=wga_mu_tuf_file, type_convert=\"FLOAT\")\n",
    "nowga_mu_tuf = load_data_file(filename=nowga_mu_tuf_file, type_convert=\"FLOAT\")\n",
    "\n",
    "assert len(wga_mu_tuf) == len(nowga_mu_tuf), \"Invalid data size for TUF data\"\n",
    "\n",
    "wga_mu_single_copy_del = load_data_file(filename=wga_mu_single_copy_del_file, \n",
    "                                             type_convert=\"FLOAT\")\n",
    "nowga_mu_single_copy_del = load_data_file(filename=nowga_mu_single_copy_del_file, \n",
    "                                                type_convert=\"FLOAT\")\n",
    "\n",
    "assert len(wga_mu_single_copy_del) == len(nowga_mu_single_copy_del), \\\n",
    "\"Invalid data size for single copy deletion data\"\n",
    "\n",
    "wga_mu_duplication = load_data_file(filename=wga_mu_duplication_file, type_convert=\"FLOAT\")\n",
    "nowga_mu_duplication = load_data_file(filename=nowga_mu_duplication_file, type_convert=\"FLOAT\")\n",
    "\n",
    "assert len(wga_mu_duplication) == len(nowga_mu_duplication), \"Invalid data size for duplication data\"\n",
    "\n",
    "wga_mu_del = load_data_file(filename=wga_mu_del_file, type_convert=\"FLOAT\")\n",
    "nowga_mu_del = load_data_file(filename=nowga_mu_del_file, type_convert=\"FLOAT\")\n",
    "\n",
    "assert len(wga_mu_del) == len(nowga_mu_del), \"Invalid data size for full deletion data\""
   ]
  },
  {
   "cell_type": "markdown",
   "metadata": {},
   "source": [
    "### Mix the data"
   ]
  },
  {
   "cell_type": "code",
   "execution_count": 7,
   "metadata": {},
   "outputs": [],
   "source": [
    "\n",
    "# WGA sample\n",
    "wga_mu = []\n",
    "wga_mu.extend(wga_mu_single_copy_del)\n",
    "wga_mu.extend(wga_mu_duplication)\n",
    "wga_mu.extend(wga_mu_del)\n",
    "\n",
    "\n",
    "# NO-WGA sample\n",
    "no_wga_mu = []\n",
    "no_wga_mu.extend(nowga_mu_single_copy_del)\n",
    "no_wga_mu.extend(nowga_mu_duplication)\n",
    "no_wga_mu.extend(nowga_mu_del)"
   ]
  },
  {
   "cell_type": "markdown",
   "metadata": {},
   "source": [
    "### Cluster the reference data"
   ]
  },
  {
   "cell_type": "code",
   "execution_count": 8,
   "metadata": {},
   "outputs": [],
   "source": [
    "# Dictionay that holds the states for the HMM \n",
    "states={}"
   ]
  },
  {
   "cell_type": "code",
   "execution_count": 9,
   "metadata": {},
   "outputs": [],
   "source": [
    "data = make_data_array(wga_mu=wga_mu, \n",
    "                       no_wga_mu=no_wga_mu, gc=None, \n",
    "                       use_ratio=False, use_gc=False)\n",
    "\n",
    "data = np.array(data)\n",
    "\n",
    "assert data.shape == (len(wga_mu), 2)"
   ]
  },
  {
   "cell_type": "markdown",
   "metadata": {},
   "source": [
    "#### Options for GMM clustering"
   ]
  },
  {
   "cell_type": "code",
   "execution_count": null,
   "metadata": {},
   "outputs": [],
   "source": [
    "NUM_CLUSTERS=5\n",
    "COVARIANCE_TYPE = 'diag'\n",
    "MAX_ITRS=1000\n",
    "TOL=1.0e-5\n",
    "N_INIT=1"
   ]
  },
  {
   "cell_type": "code",
   "execution_count": null,
   "metadata": {},
   "outputs": [],
   "source": [
    "# the GMM cluster\n",
    "gmm = mixture.GaussianMixture(n_components=NUM_CLUSTERS,\n",
    "                              covariance_type=COVARIANCE_TYPE,\n",
    "                              tol=TOL, max_iter=MAX_ITRS, n_init=N_INIT)\n",
    "\n",
    "# fit the data\n",
    "gmm.fit(data)\n",
    "   "
   ]
  },
  {
   "cell_type": "code",
   "execution_count": null,
   "metadata": {},
   "outputs": [],
   "source": []
  },
  {
   "cell_type": "code",
   "execution_count": null,
   "metadata": {},
   "outputs": [],
   "source": [
    "print(\"Converged: \", gmm.converged_)\n",
    "print(\"BIC: \", gmm.bic(data))    "
   ]
  },
  {
   "cell_type": "code",
   "execution_count": null,
   "metadata": {},
   "outputs": [],
   "source": [
    "labels = gmm.predict(data)\n",
    "print(\"Len of labels: \", len(labels))"
   ]
  },
  {
   "cell_type": "code",
   "execution_count": null,
   "metadata": {},
   "outputs": [],
   "source": [
    "colors = np.array(['green', 'blue', 'red',\n",
    "                       'yellow', 'pink', 'orange', 'purple', 'navy',\n",
    "                       'brown'])\n",
    "\n",
    "# add black color for outliers (if any)\n",
    "colors = np.append(colors, [\"#000000\"])\n",
    "colors = colors[labels]\n",
    "\n",
    "plt.scatter(no_wga_mu, wga_mu, color=colors)\n",
    "plt.xlabel(\"NO-WGA \")\n",
    "plt.ylabel(\"WGA\")\n",
    "plt.xlim(xlim)\n",
    "plt.ylim(ylim)\n",
    "plt.show()\n"
   ]
  },
  {
   "cell_type": "code",
   "execution_count": null,
   "metadata": {},
   "outputs": [],
   "source": [
    "# map that holds the association between the\n",
    "# component color and component index\n",
    "\n",
    "color_comp_assoc = {}\n",
    "for label, color in zip(labels, colors):\n",
    "    if color in color_comp_assoc.keys():\n",
    "        assert color_comp_assoc[color][0] == label\n",
    "        color_comp_assoc[color][1] += 1\n",
    "    else:\n",
    "        color_comp_assoc[color] = [label, 1]"
   ]
  }
 ],
 "metadata": {
  "kernelspec": {
   "display_name": "Python 3",
   "language": "python",
   "name": "python3"
  },
  "language_info": {
   "codemirror_mode": {
    "name": "ipython",
    "version": 3
   },
   "file_extension": ".py",
   "mimetype": "text/x-python",
   "name": "python",
   "nbconvert_exporter": "python",
   "pygments_lexer": "ipython3",
   "version": "3.8.5"
  }
 },
 "nbformat": 4,
 "nbformat_minor": 4
}
