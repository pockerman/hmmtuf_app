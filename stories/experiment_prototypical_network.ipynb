{
 "cells": [
  {
   "cell_type": "markdown",
   "metadata": {},
   "source": [
    "Experiments for setting up prototypical networks"
   ]
  },
  {
   "cell_type": "code",
   "execution_count": 2,
   "metadata": {},
   "outputs": [],
   "source": [
    "import sys\n",
    "import numpy as np\n",
    "import seaborn as sns\n",
    "import matplotlib.pyplot as plt\n",
    "import csv\n",
    "from sklearn import mixture"
   ]
  },
  {
   "cell_type": "code",
   "execution_count": 3,
   "metadata": {},
   "outputs": [],
   "source": [
    "sns.set(color_codes=True)"
   ]
  },
  {
   "cell_type": "code",
   "execution_count": 4,
   "metadata": {},
   "outputs": [],
   "source": [
    "COMPUTE_ENGINE_SRC_PATH = \"../\"\n",
    "\n",
    "if COMPUTE_ENGINE_SRC_PATH not in sys.path:\n",
    "    sys.path.append(COMPUTE_ENGINE_SRC_PATH)\n",
    "else:\n",
    "    print(\"Path='{0}' already in system path \".format(COMPUTE_ENGINE_SRC_PATH))"
   ]
  },
  {
   "cell_type": "code",
   "execution_count": 5,
   "metadata": {},
   "outputs": [],
   "source": [
    "from compute_engine.src.utils import load_data_file\n",
    "from compute_engine.src.utils import make_data_array"
   ]
  },
  {
   "cell_type": "code",
   "execution_count": 6,
   "metadata": {},
   "outputs": [],
   "source": [
    "INFO=\"INFO: \""
   ]
  },
  {
   "cell_type": "markdown",
   "metadata": {},
   "source": [
    "### Load the data"
   ]
  },
  {
   "cell_type": "code",
   "execution_count": 7,
   "metadata": {},
   "outputs": [],
   "source": [
    "# TUF region data\n",
    "wga_mu_tuf_file = \"../data/train/wga_windows_mean_0_TUF_I_CHR_1_MEAN_CUTOFF.txt\"\n",
    "nowga_mu_tuf_file = \"../data/train/no_wga_windows_mean_0_TUF_I_CHR_1_MEAN_CUTOFF.txt\"\n",
    "\n",
    "# single copy deletion data\n",
    "wga_mu_single_copy_del_file = \"../data/train/wga_windows_mean_0_SINGLE_COPY_DELETION_CHR_2_MEAN_CUTOFF.txt\"\n",
    "nowga_mu_single_copy_del_file = \"../data/train/no_wga_windows_mean_0_SINGLE_COPY_DELETION_CHR_2_MEAN_CUTOFF.txt\"\n",
    "\n",
    "# duplication data\n",
    "wga_mu_duplication_file = \"../data/train/wga_windows_mean_0_DUPLICATION_CHR_1_MEAN_CUTOFF.txt\"\n",
    "nowga_mu_duplication_file = \"../data/train/no_wga_windows_mean_0_DUPLICATION_CHR_1_MEAN_CUTOFF.txt\"\n",
    "\n",
    "# full copy deletion data\n",
    "wga_mu_del_file = \"../data/train/wga_windows_mean_0_DELETE_CHR_1_MEAN_CUTOFF.txt\"\n",
    "nowga_mu_del_file = \"../data/train/no_wga_windows_mean_0_DELETE_CHR_1_MEAN_CUTOFF.txt\""
   ]
  },
  {
   "cell_type": "code",
   "execution_count": 8,
   "metadata": {},
   "outputs": [],
   "source": [
    "wga_mu_tuf = load_data_file(filename=wga_mu_tuf_file, type_convert=\"FLOAT\")\n",
    "nowga_mu_tuf = load_data_file(filename=nowga_mu_tuf_file, type_convert=\"FLOAT\")\n",
    "\n",
    "assert len(wga_mu_tuf) == len(nowga_mu_tuf), \"Invalid data size for TUF data\"\n",
    "\n",
    "wga_mu_single_copy_del = load_data_file(filename=wga_mu_single_copy_del_file, \n",
    "                                             type_convert=\"FLOAT\")\n",
    "nowga_mu_single_copy_del = load_data_file(filename=nowga_mu_single_copy_del_file, \n",
    "                                                type_convert=\"FLOAT\")\n",
    "\n",
    "assert len(wga_mu_single_copy_del) == len(nowga_mu_single_copy_del), \\\n",
    "\"Invalid data size for single copy deletion data\"\n",
    "\n",
    "wga_mu_duplication = load_data_file(filename=wga_mu_duplication_file, type_convert=\"FLOAT\")\n",
    "nowga_mu_duplication = load_data_file(filename=nowga_mu_duplication_file, type_convert=\"FLOAT\")\n",
    "\n",
    "assert len(wga_mu_duplication) == len(nowga_mu_duplication), \"Invalid data size for duplication data\"\n",
    "\n",
    "wga_mu_del = load_data_file(filename=wga_mu_del_file, type_convert=\"FLOAT\")\n",
    "nowga_mu_del = load_data_file(filename=nowga_mu_del_file, type_convert=\"FLOAT\")\n",
    "\n",
    "assert len(wga_mu_del) == len(nowga_mu_del), \"Invalid data size for full deletion data\""
   ]
  },
  {
   "cell_type": "markdown",
   "metadata": {},
   "source": [
    "### Mix the data"
   ]
  },
  {
   "cell_type": "code",
   "execution_count": 9,
   "metadata": {},
   "outputs": [],
   "source": [
    "\n",
    "# WGA sample\n",
    "wga_mu = []\n",
    "wga_mu.extend(wga_mu_single_copy_del)\n",
    "wga_mu.extend(wga_mu_duplication)\n",
    "wga_mu.extend(wga_mu_del)\n",
    "\n",
    "\n",
    "# NO-WGA sample\n",
    "no_wga_mu = []\n",
    "no_wga_mu.extend(nowga_mu_single_copy_del)\n",
    "no_wga_mu.extend(nowga_mu_duplication)\n",
    "no_wga_mu.extend(nowga_mu_del)"
   ]
  },
  {
   "cell_type": "markdown",
   "metadata": {},
   "source": [
    "### Cluster the reference data"
   ]
  },
  {
   "cell_type": "markdown",
   "metadata": {},
   "source": [
    "#### Options for GMM clustering"
   ]
  },
  {
   "cell_type": "code",
   "execution_count": 10,
   "metadata": {},
   "outputs": [],
   "source": [
    "NUM_CLUSTERS=5\n",
    "COVARIANCE_TYPE = 'diag'\n",
    "MAX_ITRS=1000\n",
    "TOL=1.0e-5\n",
    "N_INIT=1\n",
    "TUF_NUM_CLUSTERS=3\n",
    "COLORS = np.array(['green', 'blue', 'red',\n",
    "                   'yellow', 'pink', 'orange', \n",
    "                   'purple', 'navy', 'brown'])\n",
    "\n",
    "# add black color for outliers (if any)\n",
    "COLORS = np.append(COLORS, [\"#000000\"])\n",
    "\n",
    "SAVE_DATA_PATH = \"/home/alex/qi3/hmmtuf/data/prototypical_nets/\"\n",
    "SAVE_FILENAME = \"prototypical_tuf.csv\""
   ]
  },
  {
   "cell_type": "markdown",
   "metadata": {},
   "source": [
    "### GMM clustering"
   ]
  },
  {
   "cell_type": "code",
   "execution_count": 11,
   "metadata": {},
   "outputs": [],
   "source": [
    "# Dictionay that holds the states for the HMM \n",
    "states={}"
   ]
  },
  {
   "cell_type": "code",
   "execution_count": 12,
   "metadata": {},
   "outputs": [],
   "source": [
    "data = make_data_array(wga_mu=wga_mu, \n",
    "                       no_wga_mu=no_wga_mu, gc=None, \n",
    "                       use_ratio=False, use_gc=False)\n",
    "\n",
    "data = np.array(data)\n",
    "\n",
    "assert data.shape == (len(wga_mu), 2)"
   ]
  },
  {
   "cell_type": "code",
   "execution_count": 13,
   "metadata": {},
   "outputs": [
    {
     "data": {
      "text/plain": [
       "GaussianMixture(covariance_type='diag', max_iter=1000, n_components=5,\n",
       "                tol=1e-05)"
      ]
     },
     "execution_count": 13,
     "metadata": {},
     "output_type": "execute_result"
    }
   ],
   "source": [
    "# the GMM cluster\n",
    "gmm = mixture.GaussianMixture(n_components=NUM_CLUSTERS,\n",
    "                              covariance_type=COVARIANCE_TYPE,\n",
    "                              tol=TOL, max_iter=MAX_ITRS, n_init=N_INIT)\n",
    "\n",
    "# fit the data\n",
    "gmm.fit(data)\n",
    "   "
   ]
  },
  {
   "cell_type": "code",
   "execution_count": 14,
   "metadata": {},
   "outputs": [
    {
     "name": "stdout",
     "output_type": "stream",
     "text": [
      "Converged:  True\n",
      "BIC:  162882.30627755844\n"
     ]
    }
   ],
   "source": [
    "print(\"Converged: \", gmm.converged_)\n",
    "print(\"BIC: \", gmm.bic(data))    "
   ]
  },
  {
   "cell_type": "code",
   "execution_count": 15,
   "metadata": {},
   "outputs": [
    {
     "name": "stdout",
     "output_type": "stream",
     "text": [
      "INFO:  Number of labels= 11915\n"
     ]
    }
   ],
   "source": [
    "labels = gmm.predict(data)\n",
    "print(\"{0} Number of labels= {1}\".format(INFO, len(labels)))"
   ]
  },
  {
   "cell_type": "code",
   "execution_count": 16,
   "metadata": {},
   "outputs": [
    {
     "data": {
      "image/png": "[encoded data removed]",
      "text/plain": [
       "<Figure size 432x288 with 1 Axes>"
      ]
     },
     "metadata": {},
     "output_type": "display_data"
    }
   ],
   "source": [
    "xlim=(0., 65.0)\n",
    "ylim=(0., 65.0)\n",
    "\n",
    "colors = COLORS[labels]\n",
    "\n",
    "plt.scatter(no_wga_mu, wga_mu, color=colors)\n",
    "plt.xlabel(\"NO-WGA \")\n",
    "plt.ylabel(\"WGA\")\n",
    "plt.xlim(xlim)\n",
    "plt.ylim(ylim)\n",
    "plt.show()\n"
   ]
  },
  {
   "cell_type": "code",
   "execution_count": 17,
   "metadata": {},
   "outputs": [
    {
     "name": "stdout",
     "output_type": "stream",
     "text": [
      "INFO:  Color-Component association: {'red': [2, 7604], 'blue': [1, 1551], 'pink': [4, 1897], 'green': [0, 485], 'yellow': [3, 378]}\n"
     ]
    }
   ],
   "source": [
    "# map that holds the association between the\n",
    "# component color and component index\n",
    "\n",
    "color_comp_assoc = {}\n",
    "for label, color in zip(labels, colors):\n",
    "    if color in color_comp_assoc.keys():\n",
    "        assert color_comp_assoc[color][0] == label\n",
    "        color_comp_assoc[color][1] += 1\n",
    "    else:\n",
    "        color_comp_assoc[color] = [label, 1]\n",
    "        \n",
    "print(\"{0} Color-Component association: {1}\".format(INFO, color_comp_assoc))"
   ]
  },
  {
   "cell_type": "code",
   "execution_count": 18,
   "metadata": {},
   "outputs": [
    {
     "name": "stdout",
     "output_type": "stream",
     "text": [
      "INFO:  Component 0 mu's [4.73829469 4.54374151] \n",
      "INFO:  Component 1 mu's [36.2668105  24.47551781] \n",
      "INFO:  Component 2 mu's [17.91849801 15.7008048 ] \n",
      "INFO:  Component 3 mu's [0.07647948 0.13422081] \n",
      "INFO:  Component 4 mu's [19.29473303 27.15943181] \n"
     ]
    }
   ],
   "source": [
    "means = gmm.means_\n",
    "\n",
    "for i in range(len(means)):\n",
    "    print(\"{0} Component {1} mu's {2} \".format(INFO, i , means[i]))"
   ]
  },
  {
   "cell_type": "code",
   "execution_count": 19,
   "metadata": {},
   "outputs": [],
   "source": [
    "csv_data = {\"Duplicate\": 1, 'Full-Delete': 3, 'Normal-1': 2, \"Normal-2\": 4, \"Single-Delete\": 0 }"
   ]
  },
  {
   "cell_type": "markdown",
   "metadata": {},
   "source": [
    "### Cluster for TUF"
   ]
  },
  {
   "cell_type": "code",
   "execution_count": 20,
   "metadata": {},
   "outputs": [],
   "source": [
    "tuf_wga_mu = []\n",
    "tuf_wga_mu.extend(wga_mu_tuf)\n",
    "\n",
    "tuf_nowga_mu = []\n",
    "tuf_nowga_mu.extend(nowga_mu_tuf)"
   ]
  },
  {
   "cell_type": "code",
   "execution_count": 21,
   "metadata": {},
   "outputs": [],
   "source": [
    "tuf_data = make_data_array(wga_mu=tuf_wga_mu, \n",
    "                           no_wga_mu=tuf_nowga_mu, gc=None, \n",
    "                           use_ratio=True, use_gc=False)\n",
    "\n",
    "tuf_data = np.array(tuf_data)\n",
    "\n",
    "assert tuf_data.shape == (len(tuf_wga_mu), 3)"
   ]
  },
  {
   "cell_type": "code",
   "execution_count": 22,
   "metadata": {},
   "outputs": [
    {
     "data": {
      "text/plain": [
       "GaussianMixture(covariance_type='diag', max_iter=1000, n_components=3,\n",
       "                tol=1e-05)"
      ]
     },
     "execution_count": 22,
     "metadata": {},
     "output_type": "execute_result"
    }
   ],
   "source": [
    "# the GMM cluster\n",
    "tuf_gmm = mixture.GaussianMixture(n_components=TUF_NUM_CLUSTERS,\n",
    "                                  covariance_type=COVARIANCE_TYPE,\n",
    "                                  tol=TOL, \n",
    "                                  max_iter=MAX_ITRS, n_init=N_INIT)\n",
    "\n",
    "# fit the data\n",
    "tuf_gmm.fit(tuf_data)"
   ]
  },
  {
   "cell_type": "code",
   "execution_count": 23,
   "metadata": {},
   "outputs": [
    {
     "name": "stdout",
     "output_type": "stream",
     "text": [
      "INFO:  Converged=True \n",
      "BIC:  16196.756568592093\n"
     ]
    }
   ],
   "source": [
    "print(\"{0} Converged={1} \".format(INFO, tuf_gmm.converged_))\n",
    "print(\"BIC: \", tuf_gmm.bic(tuf_data))  "
   ]
  },
  {
   "cell_type": "code",
   "execution_count": 24,
   "metadata": {},
   "outputs": [
    {
     "name": "stdout",
     "output_type": "stream",
     "text": [
      "INFO:  Number of labels= 1260\n"
     ]
    }
   ],
   "source": [
    "tuf_labels = tuf_gmm.predict(tuf_data)\n",
    "print(\"{0} Number of labels= {1}\".format(INFO, len(tuf_labels)))"
   ]
  },
  {
   "cell_type": "code",
   "execution_count": 25,
   "metadata": {},
   "outputs": [
    {
     "data": {
      "image/png": "[encoded data removed]",
      "text/plain": [
       "<Figure size 432x288 with 1 Axes>"
      ]
     },
     "metadata": {},
     "output_type": "display_data"
    }
   ],
   "source": [
    "xlim=(0., 65.0)\n",
    "ylim=(0., 65.0)\n",
    "\n",
    "colors = COLORS[tuf_labels]\n",
    "\n",
    "plt.scatter(tuf_nowga_mu, tuf_wga_mu, color=colors)\n",
    "plt.xlabel(\"NO-WGA \")\n",
    "plt.ylabel(\"WGA\")\n",
    "plt.xlim(xlim)\n",
    "plt.ylim(ylim)\n",
    "plt.show()\n"
   ]
  },
  {
   "cell_type": "code",
   "execution_count": 26,
   "metadata": {},
   "outputs": [
    {
     "name": "stdout",
     "output_type": "stream",
     "text": [
      "INFO:  TUF Color-cluster association={'red': [2, 193], 'blue': [1, 882], 'green': [0, 185]}\n"
     ]
    }
   ],
   "source": [
    "# map that holds the association between the\n",
    "# component color and component index\n",
    "\n",
    "tuf_color_comp_assoc = {}\n",
    "for label, color in zip(tuf_labels, colors):\n",
    "    if color in tuf_color_comp_assoc.keys():\n",
    "        assert tuf_color_comp_assoc[color][0] == label\n",
    "        tuf_color_comp_assoc[color][1] += 1\n",
    "    else:\n",
    "        tuf_color_comp_assoc[color] = [label, 1]\n",
    "\n",
    "print(\"{0} TUF Color-cluster association={1}\".format(INFO, tuf_color_comp_assoc))"
   ]
  },
  {
   "cell_type": "code",
   "execution_count": 27,
   "metadata": {},
   "outputs": [],
   "source": [
    "csv_data_tuf = {'TUF': 0}"
   ]
  },
  {
   "cell_type": "markdown",
   "metadata": {},
   "source": [
    "### Save the data"
   ]
  },
  {
   "cell_type": "code",
   "execution_count": 32,
   "metadata": {},
   "outputs": [],
   "source": [
    "with open(SAVE_DATA_PATH + SAVE_FILENAME, 'w', newline='\\n') as csvfile:\n",
    "    csv_writer = csv.writer(csvfile, delimiter=',')\n",
    "    \n",
    "    # write the data for \n",
    "    for item in csv_data:\n",
    "        name = item\n",
    "        label = csv_data[item]\n",
    "        \n",
    "        \n",
    "        for idx in range(len(labels)):\n",
    "            if labels[idx] == label:\n",
    "            \n",
    "                row = [data[idx][0], data[idx][1] , name]\n",
    "                csv_writer.writerow(row)\n",
    "    \n",
    "    # write the data for TUF\n",
    "    for item in csv_data_tuf:\n",
    "        name = item\n",
    "        label= csv_data_tuf[item]\n",
    "        \n",
    "        \n",
    "        for idx in range(len(tuf_labels)):\n",
    "            if tuf_labels[idx] == label:\n",
    "            \n",
    "                row = [tuf_data[idx][0], tuf_data[idx][1] , name]\n",
    "                csv_writer.writerow(row)\n",
    "    \n",
    "    "
   ]
  },
  {
   "cell_type": "code",
   "execution_count": null,
   "metadata": {},
   "outputs": [],
   "source": []
  }
 ],
 "metadata": {
  "kernelspec": {
   "display_name": "Python 3",
   "language": "python",
   "name": "python3"
  }
 },
 "nbformat": 4,
 "nbformat_minor": 4
}
