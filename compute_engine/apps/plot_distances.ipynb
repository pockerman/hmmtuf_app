{
 "cells": [
  {
   "cell_type": "code",
   "execution_count": 1,
   "metadata": {},
   "outputs": [],
   "source": [
    "import sys\n",
    "import numpy as np\n",
    "from pathlib import Path\n",
    "import matplotlib.pyplot as plt\n",
    "import seaborn as sns\n",
    "import pandas as pd\n",
    "\n",
    "import plotly.express as px\n",
    "from jupyter_dash import JupyterDash\n",
    "import dash_core_components as dcc\n",
    "import dash_html_components as html\n",
    "from dash.dependencies import Input, Output, State\n",
    "import dash"
   ]
  },
  {
   "cell_type": "code",
   "execution_count": 2,
   "metadata": {},
   "outputs": [],
   "source": [
    "if \"/home/alex/qi3/hmmtuf\" not in sys.path:\n",
    "    sys.path.append(\"/home/alex/qi3/hmmtuf\")"
   ]
  },
  {
   "cell_type": "code",
   "execution_count": 3,
   "metadata": {},
   "outputs": [],
   "source": [
    "from db.sqlite3_db_connector import SQLiteDBConnector\n",
    "from compute_engine.src.utils import INFO"
   ]
  },
  {
   "cell_type": "code",
   "execution_count": 4,
   "metadata": {},
   "outputs": [
    {
     "data": {
      "text/plain": [
       "<sqlite3.Connection at 0x7f69649144e0>"
      ]
     },
     "execution_count": 4,
     "metadata": {},
     "output_type": "execute_result"
    }
   ],
   "source": [
    "# connect to the DB\n",
    "db_connector = SQLiteDBConnector(db_file=\"../../play_ground.sqlite3\")\n",
    "db_connector.connect()"
   ]
  },
  {
   "cell_type": "code",
   "execution_count": 5,
   "metadata": {},
   "outputs": [
    {
     "name": "stdout",
     "output_type": "stream",
     "text": [
      "INFO: DB table: distance_metric_type\n",
      "INFO: DB table: distance_sequence_type\n",
      "INFO: DB table: repeats\n",
      "INFO: DB table: hmm_state_types\n",
      "INFO: DB table: repeats_distances\n"
     ]
    }
   ],
   "source": [
    "# check the table names\n",
    "tbl_names = db_connector.get_table_names()\n",
    "\n",
    "for name in tbl_names:\n",
    "    print(\"{0} DB table: {1}\".format(INFO, name))"
   ]
  },
  {
   "cell_type": "code",
   "execution_count": 6,
   "metadata": {},
   "outputs": [
    {
     "name": "stdout",
     "output_type": "stream",
     "text": [
      "INFO: Sequence type (1, 'NORMAL')\n",
      "INFO: Sequence type (2, 'PURINE')\n",
      "INFO: Sequence type (3, 'AMINO')\n",
      "INFO: Sequence type (4, 'WEAK_HYDROGEN')\n"
     ]
    }
   ],
   "source": [
    "uique_seq_types = [(0, \"Select\")]\n",
    "\n",
    "sql = \"SELECT * from distance_sequence_type\"\n",
    "rows = db_connector.fetch_all(sql=sql)\n",
    "\n",
    "for item in rows:\n",
    "    uique_seq_types.append(item)\n",
    "    print(\"{0} Sequence type {1}\".format(INFO, item))"
   ]
  },
  {
   "cell_type": "code",
   "execution_count": 7,
   "metadata": {},
   "outputs": [
    {
     "name": "stdout",
     "output_type": "stream",
     "text": [
      "INFO: Metric type (1, 'Bag', 'bag')\n",
      "INFO: Metric type (2, 'Cosine', 'cos')\n",
      "INFO: Metric type (3, 'DamerauLevenshtein', 'damlev')\n",
      "INFO: Metric type (4, 'Gotoh', 'got')\n",
      "INFO: Metric type (5, 'Hamming', 'ham')\n",
      "INFO: Metric type (6, 'Jaccard', 'jac')\n",
      "INFO: Metric type (7, 'JaroWinkler', 'jwink')\n",
      "INFO: Metric type (8, 'LCSSeq', 'lcsseq')\n",
      "INFO: Metric type (9, 'LCSStr', 'lcsstr')\n",
      "INFO: Metric type (10, 'Levenshtein', 'lev')\n",
      "INFO: Metric type (11, 'MLIPNS', 'mlipns')\n",
      "INFO: Metric type (12, 'MongeElkan', 'mon')\n",
      "INFO: Metric type (13, 'NeedlemanWunsch', 'nw')\n",
      "INFO: Metric type (14, 'Overlap', 'ov')\n",
      "INFO: Metric type (15, 'Sorensen', 'sor')\n",
      "INFO: Metric type (16, 'StrCmp95', 'str')\n",
      "INFO: Metric type (17, 'SmithWaterman', 'sw')\n",
      "INFO: Metric type (18, 'Tanimoto', 'tan')\n",
      "INFO: Metric type (19, 'Tversky', 'tve')\n"
     ]
    }
   ],
   "source": [
    "uique_dist_types = [(0, \"Select\")]\n",
    "\n",
    "sql = \"SELECT * from distance_metric_type\"\n",
    "rows = db_connector.fetch_all(sql=sql)\n",
    "\n",
    "for item in rows:\n",
    "    uique_dist_types.append(item)\n",
    "    print(\"{0} Metric type {1}\".format(INFO, item))"
   ]
  },
  {
   "cell_type": "code",
   "execution_count": 8,
   "metadata": {},
   "outputs": [
    {
     "name": "stdout",
     "output_type": "stream",
     "text": [
      "INFO: State type (1, 'NORMAL')\n",
      "INFO: State type (2, 'TUF')\n",
      "INFO: State type (3, 'DELETION')\n",
      "INFO: State type (4, 'DUPLICATION')\n"
     ]
    }
   ],
   "source": [
    "unique_state_types = [(0, \"Select\")]\n",
    "sql = \"SELECT * from hmm_state_types\"\n",
    "rows = db_connector.fetch_all(sql=sql)\n",
    "\n",
    "for item in rows:\n",
    "    unique_state_types.append(item)\n",
    "    print(\"{0} State type {1}\".format(INFO, item))"
   ]
  },
  {
   "cell_type": "code",
   "execution_count": 9,
   "metadata": {},
   "outputs": [
    {
     "name": "stdout",
     "output_type": "stream",
     "text": [
      "INFO: State type (0, 'Select')\n",
      "INFO: State type (1, 'NORMAL')\n",
      "INFO: State type (2, 'TUF')\n",
      "INFO: State type (3, 'CORE')\n"
     ]
    }
   ],
   "source": [
    "unique_state_types.remove((4, 'DUPLICATION'))\n",
    "for i, item in enumerate(unique_state_types):\n",
    "    if item == (3, 'DELETION'):\n",
    "        unique_state_types[i] = (3, 'CORE')\n",
    "\n",
    "for item in unique_state_types:\n",
    "    print(\"{0} State type {1}\".format(INFO, item))"
   ]
  },
  {
   "cell_type": "code",
   "execution_count": 10,
   "metadata": {},
   "outputs": [],
   "source": [
    "db_connector.delete_table(tbl_name=\"temp.temp_repeats\")"
   ]
  },
  {
   "cell_type": "code",
   "execution_count": 11,
   "metadata": {},
   "outputs": [],
   "source": [
    "sql = '''CREATE TEMPORARY TABLE temp_repeats AS SELECT'''\n",
    "sql += ''' id FROM repeats where gc < {0} AND repeat_seq != 'NO_REPEATS';'''.format(0.5)\n",
    "db_connector.create_tmp_table(sql=sql)"
   ]
  },
  {
   "cell_type": "code",
   "execution_count": 12,
   "metadata": {},
   "outputs": [],
   "source": [
    "# the application\n",
    "app = JupyterDash(__name__)"
   ]
  },
  {
   "cell_type": "code",
   "execution_count": 13,
   "metadata": {},
   "outputs": [
    {
     "name": "stdout",
     "output_type": "stream",
     "text": [
      "[(0, 'Select'), (1, 'NORMAL'), (2, 'PURINE'), (3, 'AMINO'), (4, 'WEAK_HYDROGEN')]\n"
     ]
    }
   ],
   "source": [
    "print(uique_seq_types)"
   ]
  },
  {
   "cell_type": "code",
   "execution_count": 14,
   "metadata": {},
   "outputs": [],
   "source": [
    "gc_limit_type = [(0, \"Select\"), (1, \"AVG\"), (2, \"MIN\"), (3, \"MAX\")]\n",
    "gc_limit = [(0, \"Select\"), (1, \"<\"), (2, \">\"), (3, \"<=\"), (4, \">=\"), (5, \"=\")]\n",
    "gc_limit_map = {0: \"Select\", 1: \"<\", 2: \">\", 3: \"<=\", 4: \">=\", 5: \"=\"}"
   ]
  },
  {
   "cell_type": "code",
   "execution_count": 15,
   "metadata": {},
   "outputs": [],
   "source": [
    "app.layout = html.Div([\n",
    "    html.H1(\"Distances Plot\"),\n",
    "    html.H3(\"Sequence type\"),\n",
    "    dcc.Dropdown(\n",
    "        id=\"dropdown-sequence\",\n",
    "        options=[{\"label\": x[1], \"value\": x[0]} for x in uique_seq_types],\n",
    "        value=uique_seq_types[0][0],\n",
    "        clearable=False,\n",
    "    ),\n",
    "    \n",
    "    html.H3(\"Distance type\"),\n",
    "    dcc.Dropdown(\n",
    "        id=\"dropdown-distance\",\n",
    "        options=[{\"label\": x[1], \"value\": x[0]} for x in uique_dist_types],\n",
    "        value=uique_dist_types[0][0],\n",
    "        clearable=False,\n",
    "    ),\n",
    "    \n",
    "    html.H3(\"GC Limit Variable\"),\n",
    "    dcc.Dropdown(\n",
    "        id=\"dropdown-gc-limit-type\",\n",
    "        options=[{\"label\": x[1], \"value\": x[0]} for x in gc_limit_type],\n",
    "        value=gc_limit_type[0][0],\n",
    "        clearable=False,\n",
    "    ),\n",
    "    \n",
    "    html.H3(\"GC Limiter\"),\n",
    "    dcc.Dropdown(\n",
    "        id=\"dropdown-gc-limit\",\n",
    "        options=[{\"label\": x[1], \"value\": x[0]} for x in gc_limit],\n",
    "        value=gc_limit[0][0],\n",
    "        clearable=False,\n",
    "    ),\n",
    "    \n",
    "    html.H3(\"GC Value\"),\n",
    "    dcc.Input(\n",
    "        id=\"gc-limit-value\",\n",
    "        type=\"number\",\n",
    "    ),\n",
    "    html.Br(id=\"break-id-1\"),\n",
    "    html.Br(id=\"break-id-2\"),\n",
    "    html.Button(children ='Compute', id='compute-btn', n_clicks =0),\n",
    "     html.Br(id=\"break-id-3\"),\n",
    "    html.Br(id=\"break-id-4\"),\n",
    "    html.Div(children=[html.H5(\"Error Messages\"), html.Div(id=\"error-messages-id\")]),\n",
    "     html.Br(id=\"break-id-5\"),\n",
    "    html.Br(id=\"break-id-6\"),\n",
    "    html.H3(\"Normal state\"),\n",
    "    html.Div(children=[html.H5(\"Number of sequences\"), html.Div(id=\"normal-n-distances\")]),\n",
    "    dcc.Graph(id=\"normal-bar-chart\"),\n",
    "    html.H3(\"TUF state\"),\n",
    "    html.Div(children=[html.H5(\"Number of sequences\"), html.Div(id=\"tuf-n-distances\")]),\n",
    "    dcc.Graph(id=\"tuf-bar-chart\"),\n",
    "    html.H3(\"Core\"),\n",
    "    html.Div(children=[html.H5(\"Number of sequences\"), html.Div(id=\"core-n-distances\")] ),\n",
    "    dcc.Graph(id=\"core-bar-chart\"),\n",
    "    \n",
    "])"
   ]
  },
  {
   "cell_type": "code",
   "execution_count": 16,
   "metadata": {},
   "outputs": [],
   "source": [
    "def create_plot_from_state_type(state_type_id, metric_type_id, sequence_type_id):\n",
    "    \n",
    "    # we don't use any limiters\n",
    "    sql = \"SELECT value FROM repeats_distances WHERE hmm_state_id_1 = {0}\".format(state_type_id) \n",
    "    sql += \" AND  hmm_state_id_2 = {0}\".format(state_type_id)\n",
    "    sql += \" AND metric_type_id={0} AND sequence_type_id={1} LIMIT 10\".format(metric_type_id, \n",
    "                                                                              sequence_type_id)\n",
    "    \n",
    "    error_message = \"\"\n",
    "         \n",
    "    try:\n",
    "        print(\"{0} Executing sql={1}\".format(INFO, sql))\n",
    "        local_db = SQLiteDBConnector(db_file=\"../../play_ground.sqlite3\")\n",
    "        local_db.connect()\n",
    "        rows = local_db.fetch_all(sql=sql)\n",
    "        print(\"{0} Fetched number of rows={1}\".format(INFO, len(rows)))\n",
    "    except Exception as e:\n",
    "        rows = []\n",
    "        error_message = str(e)\n",
    "    \n",
    "    \n",
    "    counts, bins = np.histogram(rows, bins=35)\n",
    "    bins = 0.5 * (bins[:-1] + bins[1:])\n",
    "\n",
    "    fig = px.bar(x=bins, y=counts, orientation='v', \n",
    "                 labels={'x':'distance', 'y':'count'}, range_x=[0,1])\n",
    "    fig.update_layout(xaxis = dict(\n",
    "            tickmode = 'linear',\n",
    "            tick0 = 0.0,\n",
    "            dtick = 0.15))\n",
    "\n",
    "    return error_message, fig, len(rows)\n",
    "    "
   ]
  },
  {
   "cell_type": "code",
   "execution_count": 17,
   "metadata": {},
   "outputs": [],
   "source": [
    "\n",
    "\n",
    "def create_figure_plot(state_type_id, metric_type_id, \n",
    "                       sequence_type_id, gc_limit_type, gc_limiter, gc_value, btn_clicks):\n",
    "    \n",
    "    \n",
    "    if btn_clicks == 0:\n",
    "        \n",
    "        # nothing to compute\n",
    "        rows = []\n",
    "        error_message = \"\"\n",
    "        \n",
    "    elif btn_clicks !=0 and sequence_type_id == 0 or metric_type_id == 0:\n",
    "        # we have nothing to plot\n",
    "        rows = []\n",
    "        error_message = \"\"\n",
    "    else:\n",
    "        \n",
    "        if gc_limit_type == 0 and gc_limiter == 0 and gc_value is None:\n",
    "            \n",
    "            # we don't want GC limiters\n",
    "            return create_plot_from_state_type(state_type_id=state_type_id, \n",
    "                                                   metric_type_id=metric_type_id, \n",
    "                                                   sequence_type_id=sequence_type_id)\n",
    "        else:\n",
    "            \n",
    "            ## error handling\n",
    "            if gc_limit_type != 0 and gc_limiter == 0 or gc_value is None:\n",
    "                rows = []\n",
    "                error_message = \" GC limit variable specified but\" \n",
    "                error_message += \" not the GC limiter direction or the GC value.\"\n",
    "            elif gc_limiter != 0 and gc_limit_type == 0 or gc_value is None:\n",
    "                rows = []\n",
    "                error_message = \" GC limiter specified but\" \n",
    "                error_message +=\" not the GC limit variable direction or the GC value.\"\n",
    "            elif gc_value is not None and gc_limiter == 0 or gc_limit_type == 0:\n",
    "                rows = []\n",
    "                error_message = \" GC value specified but\" \n",
    "                error_message += \" not the GC limit variable or the GC limiter.\"\n",
    "                \n",
    "            else: \n",
    "                    \n",
    "                if gc_limiter == 1:\n",
    "                \n",
    "                    sql = '''CREATE TEMPORARY TABLE temp_repeats AS SELECT'''\n",
    "                    sql += ''' id FROM repeats where gc < {0} AND repeat_seq != 'NO_REPEATS';'''.format(gc_value)\n",
    "                elif gc_limiter == 2:\n",
    "                    \n",
    "                    sql = '''CREATE TEMPORARY TABLE temp_repeats AS SELECT''' \n",
    "                    sql += ''' id FROM repeats where gc > {0} AND repeat_seq != 'NO_REPEATS';'''.format(gc_value)\n",
    "                elif gc_limiter == 3:\n",
    "                    \n",
    "                    sql = '''CREATE TEMPORARY TABLE temp_repeats AS SELECT'''\n",
    "                    sql += ''' id FROM repeats where gc <= {0} AND repeat_seq != 'NO_REPEATS';'''.format(gc_value)\n",
    "                elif gc_limiter == 4:\n",
    "                    \n",
    "                    sql = '''CREATE TEMPORARY TABLE temp_repeats AS SELECT'''\n",
    "                    sql += ''' id FROM repeats where gc >= {0} AND repeat_seq != 'NO_REPEATS';'''.format(gc_value)\n",
    "                elif gc_limiter == 5:\n",
    "                    \n",
    "                    sql = '''CREATE TEMPORARY TABLE temp_repeats AS SELECT'''\n",
    "                    sql += ''' id FROM repeats where gc = {0} AND repeat_seq != 'NO_REPEATS';'''.format(gc_value)\n",
    "                \n",
    "                print(\"{0} Fetching data for GC={1}\".format(INFO, gc_value))\n",
    "                print(\"{0} Create temporary table sql={1}\".format(INFO, sql))\n",
    "                \n",
    "                try:\n",
    "                    \n",
    "                    local_db = SQLiteDBConnector(db_file=\"../../play_ground.sqlite3\")\n",
    "                    local_db.connect()\n",
    "                    local_db.create_tmp_table(sql=sql)\n",
    "                    \n",
    "                    sql = \"SELECT COUNT(*) FROM temp_repeats\"\n",
    "                    rows = local_db.fetch_all(sql=sql)\n",
    "                    \n",
    "                    print(\"{0} Found {1} repeats with GC {2} {3}\".format(INFO, rows[0][0], \n",
    "                                                                         gc_limit_map[gc_limiter],\n",
    "                                                                         gc_value))\n",
    "                    \n",
    "                    sql = \"SELECT value FROM repeats_distances WHERE\"\n",
    "                    sql += \" repeat_idx_1 IN (SELECT * FROM temp_repeats)\"\n",
    "                    sql += \" AND repeat_idx_2 IN (SELECT * FROM temp_repeats)\"\n",
    "                    sql += \" AND hmm_state_id_1 = {0}\".format(state_type_id)\n",
    "                    sql += \" AND  hmm_state_id_2 = {0}\".format(state_type_id)\n",
    "                    sql += \" AND metric_type_id={0}\".format(metric_type_id)\n",
    "                    sql += \" AND sequence_type_id={0}\".format(sequence_type_id)\n",
    "\n",
    "                    print(\"{0} Executing sql={1}\".format(INFO, sql))\n",
    "                    rows = local_db.fetch_all(sql=sql)\n",
    "                    print(\"{0} Fetched number of rows={1}\".format(INFO, len(rows)))\n",
    "                    print(\"{0} Deleting table...\".format(INFO))\n",
    "                    sql = '''DROP TABLE IF EXISTS temp_repeats'''\n",
    "                    local_db.execute_sql(sql=sql)\n",
    "                    error_message = \"\"\n",
    "                except Exception as e:\n",
    "                    error_message = str(e)\n",
    "                    rows = []\n",
    "                    sql = '''DROP TABLE IF EXISTS temp_repeats'''\n",
    "                    local_db.execute_sql(sql=sql)\n",
    "                \n",
    "    counts, bins = np.histogram(rows, bins=35)\n",
    "    bins = 0.5 * (bins[:-1] + bins[1:])\n",
    "\n",
    "    fig = px.bar(x=bins, y=counts, orientation='v', labels={'x':'distance', 'y':'count'}, range_x=[0,1])\n",
    "    fig.update_layout(xaxis = dict(\n",
    "            tickmode = 'linear',\n",
    "            tick0 = 0.0,\n",
    "            dtick = 0.15))\n",
    "\n",
    "    return error_message, fig, len(rows)\n",
    "    \n",
    "    "
   ]
  },
  {
   "cell_type": "code",
   "execution_count": 18,
   "metadata": {},
   "outputs": [],
   "source": [
    "\n",
    "@app.callback(\n",
    "    Output(\"error-messages-id\", component_property='children'),\n",
    "    Output(\"normal-bar-chart\", \"figure\"),\n",
    "    Output(\"normal-n-distances\", component_property='children'),\n",
    "    Output(\"tuf-bar-chart\", \"figure\"),\n",
    "    Output(\"tuf-n-distances\", component_property='children'),\n",
    "    Output(\"core-bar-chart\", \"figure\"),\n",
    "    Output(\"core-n-distances\", component_property='children'),\n",
    "    [Input(\"dropdown-sequence\", \"value\"), \n",
    "     Input(\"dropdown-distance\", \"value\"),\n",
    "     Input(\"dropdown-gc-limit-type\", \"value\"),\n",
    "     Input(\"dropdown-gc-limit\", \"value\"),\n",
    "     Input(\"gc-limit-value\", \"value\"),\n",
    "     Input(\"compute-btn\", \"n_clicks\")],\n",
    "     [State(\"compute-btn\", \"n_clicks\")])\n",
    "def update_bar_chart(seq_type, distance_type, gc_limit_type, \n",
    "                     gc_limiter, gc_value, btn_clicks, n_btn_clicks):\n",
    "    \n",
    "    # get the changes\n",
    "    changed_id = [p['prop_id'] for p in dash.callback_context.triggered][0]\n",
    "    \n",
    "    \n",
    "    # if the compute bth is in the changes\n",
    "    # this means we triger a compute\n",
    "    if 'compute-btn' in changed_id:\n",
    "        btn_clicks = 1\n",
    "    else:\n",
    "        btn_clicks = 0\n",
    "    \n",
    "    metric_type_id = distance_type           \n",
    "    sequence_type_id = seq_type\n",
    "    error_message = \"\"\n",
    "    \n",
    "    figs_ids = [1, 2, 3]\n",
    "    figs = []\n",
    "    for fid in figs_ids:\n",
    "        error_message, fig, rows = create_figure_plot(state_type_id=fid, \n",
    "                                 metric_type_id=metric_type_id,\n",
    "                                 sequence_type_id=sequence_type_id,\n",
    "                                 gc_limit_type=gc_limit_type, \n",
    "                                 gc_limiter=gc_limiter, \n",
    "                                 gc_value=gc_value, btn_clicks=btn_clicks)\n",
    "        figs.append(fig)\n",
    "        figs.append(rows)\n",
    "    \n",
    "    \n",
    "    return error_message, figs[0], figs[1], figs[2], figs[3], figs[4], figs[5],"
   ]
  },
  {
   "cell_type": "code",
   "execution_count": 19,
   "metadata": {
    "scrolled": false
   },
   "outputs": [
    {
     "name": "stdout",
     "output_type": "stream",
     "text": [
      "Dash app running on http://127.0.0.1:8050/\n",
      "INFO: Fetching data for GC=0.6\n",
      "INFO: Create temporary table sql=CREATE TEMPORARY TABLE temp_repeats AS SELECT id FROM repeats where gc < 0.6 AND repeat_seq != 'NO_REPEATS';\n",
      "INFO: Found 8 repeats with GC < 0.6\n",
      "INFO: Executing sql=SELECT value FROM repeats_distances WHERE repeat_idx_1 IN (SELECT * FROM temp_repeats) AND repeat_idx_2 IN (SELECT * FROM temp_repeats) AND hmm_state_id_1 = 1 AND  hmm_state_id_2 = 1 AND metric_type_id=1 AND sequence_type_id=1\n",
      "INFO: Fetched number of rows=0\n",
      "INFO: Deleting table...\n",
      "INFO: Fetching data for GC=0.6\n",
      "INFO: Create temporary table sql=CREATE TEMPORARY TABLE temp_repeats AS SELECT id FROM repeats where gc < 0.6 AND repeat_seq != 'NO_REPEATS';\n",
      "INFO: Found 8 repeats with GC < 0.6\n",
      "INFO: Executing sql=SELECT value FROM repeats_distances WHERE repeat_idx_1 IN (SELECT * FROM temp_repeats) AND repeat_idx_2 IN (SELECT * FROM temp_repeats) AND hmm_state_id_1 = 2 AND  hmm_state_id_2 = 2 AND metric_type_id=1 AND sequence_type_id=1\n",
      "INFO: Fetched number of rows=0\n",
      "INFO: Deleting table...\n",
      "INFO: Fetching data for GC=0.6\n",
      "INFO: Create temporary table sql=CREATE TEMPORARY TABLE temp_repeats AS SELECT id FROM repeats where gc < 0.6 AND repeat_seq != 'NO_REPEATS';\n",
      "INFO: Found 8 repeats with GC < 0.6\n",
      "INFO: Executing sql=SELECT value FROM repeats_distances WHERE repeat_idx_1 IN (SELECT * FROM temp_repeats) AND repeat_idx_2 IN (SELECT * FROM temp_repeats) AND hmm_state_id_1 = 3 AND  hmm_state_id_2 = 3 AND metric_type_id=1 AND sequence_type_id=1\n",
      "INFO: Fetched number of rows=28\n",
      "INFO: Deleting table...\n"
     ]
    }
   ],
   "source": [
    "# Run app and display result inline in the notebook\n",
    "app.run_server(mode='external', use_reloader=False)"
   ]
  },
  {
   "cell_type": "code",
   "execution_count": null,
   "metadata": {},
   "outputs": [],
   "source": []
  }
 ],
 "metadata": {
  "kernelspec": {
   "display_name": "Python 3",
   "language": "python",
   "name": "python3"
  },
  "language_info": {
   "codemirror_mode": {
    "name": "ipython",
    "version": 3
   },
   "file_extension": ".py",
   "mimetype": "text/x-python",
   "name": "python",
   "nbconvert_exporter": "python",
   "pygments_lexer": "ipython3",
   "version": "3.8.5"
  }
 },
 "nbformat": 4,
 "nbformat_minor": 4
}
