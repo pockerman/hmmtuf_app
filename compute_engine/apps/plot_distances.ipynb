{
 "cells": [
  {
   "cell_type": "code",
   "execution_count": 1,
   "metadata": {},
   "outputs": [],
   "source": [
    "import sys\n",
    "import numpy as np\n",
    "from pathlib import Path\n",
    "import matplotlib.pyplot as plt\n",
    "import seaborn as sns\n",
    "import pandas as pd\n",
    "\n",
    "import plotly.express as px\n",
    "from jupyter_dash import JupyterDash\n",
    "import dash_core_components as dcc\n",
    "import dash_html_components as html\n",
    "from dash.dependencies import Input, Output"
   ]
  },
  {
   "cell_type": "code",
   "execution_count": 2,
   "metadata": {},
   "outputs": [],
   "source": [
    "if \"/home/alex/qi3/hmmtuf\" not in sys.path:\n",
    "    sys.path.append(\"/home/alex/qi3/hmmtuf\")"
   ]
  },
  {
   "cell_type": "code",
   "execution_count": 3,
   "metadata": {},
   "outputs": [],
   "source": [
    "from db.sqlite3_db_connector import SQLiteDBConnector\n",
    "from compute_engine.src.utils import INFO"
   ]
  },
  {
   "cell_type": "code",
   "execution_count": 4,
   "metadata": {},
   "outputs": [],
   "source": [
    "# connect to the DB\n",
    "db_connector = SQLiteDBConnector(db_file=\"../../play_ground.sqlite3\")"
   ]
  },
  {
   "cell_type": "code",
   "execution_count": 5,
   "metadata": {},
   "outputs": [
    {
     "name": "stdout",
     "output_type": "stream",
     "text": [
      "INFO: DB table: distance_metric_type\n",
      "INFO: DB table: distance_sequence_type\n",
      "INFO: DB table: repeats\n",
      "INFO: DB table: hmm_state_types\n",
      "INFO: DB table: repeats_distances\n",
      "INFO: DB table: repeats_info\n",
      "INFO: DB table: gquads_info\n"
     ]
    }
   ],
   "source": [
    "# check the table names\n",
    "tbl_names = db_connector.get_table_names()\n",
    "\n",
    "for name in tbl_names:\n",
    "    print(\"{0} DB table: {1}\".format(INFO, name))"
   ]
  },
  {
   "cell_type": "code",
   "execution_count": 6,
   "metadata": {},
   "outputs": [
    {
     "name": "stdout",
     "output_type": "stream",
     "text": [
      "INFO: Sequence type (1, 'NORMAL')\n",
      "INFO: Sequence type (2, 'PURINE')\n",
      "INFO: Sequence type (3, 'AMINO')\n",
      "INFO: Sequence type (4, 'WEAK_HYDROGEN')\n"
     ]
    }
   ],
   "source": [
    "sql = \"SELECT * from distance_sequence_type\"\n",
    "rows = db_connector.fetch_all(sql=sql)\n",
    "\n",
    "for item in rows:\n",
    "    print(\"{0} Sequence type {1}\".format(INFO, item))"
   ]
  },
  {
   "cell_type": "code",
   "execution_count": 7,
   "metadata": {},
   "outputs": [],
   "source": [
    "uique_seq_types = [item for item in rows]"
   ]
  },
  {
   "cell_type": "code",
   "execution_count": 8,
   "metadata": {},
   "outputs": [
    {
     "name": "stdout",
     "output_type": "stream",
     "text": [
      "INFO: Metric type (1, 'Hamming', 'ham')\n",
      "INFO: Metric type (2, 'MLIPNS', 'mlipns')\n",
      "INFO: Metric type (3, 'Levenshtein', 'lev')\n",
      "INFO: Metric type (4, 'DamerauLevenshtein', 'damlev')\n",
      "INFO: Metric type (5, 'JaroWinkler', 'jwink')\n",
      "INFO: Metric type (6, 'StrCmp95', 'str')\n",
      "INFO: Metric type (7, 'NeedlemanWunsch', 'nw')\n",
      "INFO: Metric type (8, 'SmithWaterman', 'sw')\n",
      "INFO: Metric type (9, 'Gotoh', 'got')\n",
      "INFO: Metric type (10, 'Jaccard', 'jac')\n",
      "INFO: Metric type (11, 'Sorensen', 'sor')\n",
      "INFO: Metric type (12, 'Tversky', 'tve')\n",
      "INFO: Metric type (13, 'Overlap', 'ov')\n",
      "INFO: Metric type (14, 'Tanimoto', 'tan')\n",
      "INFO: Metric type (15, 'Cosine', 'cos')\n",
      "INFO: Metric type (16, 'MongeElkan', 'mon')\n",
      "INFO: Metric type (17, 'Bag', 'bag')\n",
      "INFO: Metric type (18, 'LCSSeq', 'lcsseq')\n",
      "INFO: Metric type (19, 'LCSStr', 'lcsstr')\n",
      "INFO: Metric type (20, 'RatcliffObershelp', 'rat')\n",
      "INFO: Metric type (21, 'ArithNCD', 'ari')\n",
      "INFO: Metric type (22, 'RLENCD', 'rle')\n",
      "INFO: Metric type (23, 'BWTRLENCD', 'bwt')\n",
      "INFO: Metric type (24, 'SqrtNCD', 'sqr')\n",
      "INFO: Metric type (25, 'EntropyNCD', 'ent')\n",
      "INFO: Metric type (26, 'BZ2NCD', 'bz2')\n",
      "INFO: Metric type (27, 'LZMANCD', 'lzm')\n",
      "INFO: Metric type (28, 'ZLIBNCD', 'zli')\n",
      "INFO: Metric type (29, 'MRA', 'mra')\n",
      "INFO: Metric type (30, 'Editex', 'edi')\n",
      "INFO: Metric type (31, 'Prefix', 'pre')\n",
      "INFO: Metric type (32, 'Postfix', 'pos')\n",
      "INFO: Metric type (33, 'Length', 'len')\n",
      "INFO: Metric type (34, 'Identity', 'id')\n",
      "INFO: Metric type (35, 'Matrix', 'mat')\n"
     ]
    }
   ],
   "source": [
    "sql = \"SELECT * from distance_metric_type\"\n",
    "rows = db_connector.fetch_all(sql=sql)\n",
    "\n",
    "for item in rows:\n",
    "    print(\"{0} Metric type {1}\".format(INFO, item))"
   ]
  },
  {
   "cell_type": "code",
   "execution_count": 9,
   "metadata": {},
   "outputs": [],
   "source": [
    "uique_dist_types = [item for item in rows]"
   ]
  },
  {
   "cell_type": "code",
   "execution_count": 10,
   "metadata": {},
   "outputs": [
    {
     "name": "stdout",
     "output_type": "stream",
     "text": [
      "INFO: State type (1, 'NORMAL')\n",
      "INFO: State type (2, 'TUF')\n",
      "INFO: State type (3, 'DELETION')\n",
      "INFO: State type (4, 'DUPLICATION')\n"
     ]
    }
   ],
   "source": [
    "sql = \"SELECT * from hmm_state_types\"\n",
    "rows = db_connector.fetch_all(sql=sql)\n",
    "\n",
    "for item in rows:\n",
    "    print(\"{0} State type {1}\".format(INFO, item))"
   ]
  },
  {
   "cell_type": "code",
   "execution_count": 11,
   "metadata": {},
   "outputs": [
    {
     "name": "stdout",
     "output_type": "stream",
     "text": [
      "INFO: State type (1, 'NORMAL')\n",
      "INFO: State type (2, 'TUF')\n",
      "INFO: State type (3, 'CORE')\n"
     ]
    }
   ],
   "source": [
    "unique_state_types = [item for item in rows]\n",
    "unique_state_types.remove((4, 'DUPLICATION'))\n",
    "for i, item in enumerate(unique_state_types):\n",
    "    if item == (3, 'DELETION'):\n",
    "        unique_state_types[i] = (3, 'CORE')\n",
    "\n",
    "for item in unique_state_types:\n",
    "    print(\"{0} State type {1}\".format(INFO, item))"
   ]
  },
  {
   "cell_type": "code",
   "execution_count": 12,
   "metadata": {},
   "outputs": [],
   "source": [
    "# the application\n",
    "app = JupyterDash(__name__)"
   ]
  },
  {
   "cell_type": "code",
   "execution_count": 13,
   "metadata": {},
   "outputs": [
    {
     "name": "stdout",
     "output_type": "stream",
     "text": [
      "[(1, 'NORMAL'), (2, 'PURINE'), (3, 'AMINO'), (4, 'WEAK_HYDROGEN')]\n"
     ]
    }
   ],
   "source": [
    "print(uique_seq_types)"
   ]
  },
  {
   "cell_type": "code",
   "execution_count": 14,
   "metadata": {},
   "outputs": [],
   "source": [
    "app.layout = html.Div([\n",
    "    html.H1(\"Distances Plot\"),\n",
    "    html.H3(\"Sequence type\"),\n",
    "    dcc.Dropdown(\n",
    "        id=\"dropdown-sequence\",\n",
    "        options=[{\"label\": x[1], \"value\": x[0]} for x in uique_seq_types],\n",
    "        value=uique_seq_types[0][0],\n",
    "        clearable=False,\n",
    "    ),\n",
    "    \n",
    "    html.H3(\"Distance type\"),\n",
    "    dcc.Dropdown(\n",
    "        id=\"dropdown-distance\",\n",
    "        options=[{\"label\": x[1], \"value\": x[0]} for x in uique_dist_types],\n",
    "        value=uique_dist_types[0][0],\n",
    "        clearable=False,\n",
    "    ),\n",
    "   \n",
    "    html.H3(\"Normal state\"),\n",
    "    html.Div(children=[html.H5(\"Number of sequences\"), html.Div(id=\"normal-n-distances\")]),\n",
    "    dcc.Graph(id=\"normal-bar-chart\"),\n",
    "    html.H3(\"TUF state\"),\n",
    "    html.Div(children=[html.H5(\"Number of sequences\"), html.Div(id=\"tuf-n-distances\")]),\n",
    "    dcc.Graph(id=\"tuf-bar-chart\"),\n",
    "    html.H3(\"Core\"),\n",
    "    html.Div(children=[html.H5(\"Number of sequences\"), html.Div(id=\"core-n-distances\")] ),\n",
    "    dcc.Graph(id=\"core-bar-chart\"),\n",
    "    \n",
    "])"
   ]
  },
  {
   "cell_type": "code",
   "execution_count": 15,
   "metadata": {},
   "outputs": [],
   "source": [
    "def create_figure_plot(state_type_id, metric_type_id, sequence_type_id):\n",
    "    \n",
    "    sql = \"SELECT value FROM repeats_distances WHERE \\\n",
    "         hmm_state_id_1 = {0} AND  hmm_state_id_2 = {0} \\\n",
    "        AND metric_type_id={1} AND sequence_type_id={2}\".format(state_type_id,\n",
    "                                                                metric_type_id,\n",
    "                                                                sequence_type_id)\n",
    "\n",
    "    print(\"{0} Executing sql={1}\".format(INFO, sql))\n",
    "    rows = db_connector.fetch_all(sql=sql)\n",
    "    print(\"{0} Fetched number of rows={1}\".format(INFO, len(rows)))\n",
    "\n",
    "    counts, bins = np.histogram(rows, bins=35)\n",
    "    bins = 0.5 * (bins[:-1] + bins[1:])\n",
    "\n",
    "    fig = px.bar(x=bins, y=counts, orientation='v', labels={'x':'distance', 'y':'count'}, range_x=[0,1])\n",
    "    fig.update_layout(xaxis = dict(\n",
    "            tickmode = 'linear',\n",
    "            tick0 = 0.0,\n",
    "            dtick = 0.15))\n",
    "\n",
    "    return fig, len(rows)\n",
    "    \n",
    "    "
   ]
  },
  {
   "cell_type": "code",
   "execution_count": 16,
   "metadata": {},
   "outputs": [],
   "source": [
    "@app.callback(\n",
    "    Output(\"normal-bar-chart\", \"figure\"),\n",
    "    Output(\"normal-n-distances\", component_property='children'),\n",
    "    Output(\"tuf-bar-chart\", \"figure\"),\n",
    "    Output(\"tuf-n-distances\", component_property='children'),\n",
    "    Output(\"core-bar-chart\", \"figure\"),\n",
    "    Output(\"core-n-distances\", component_property='children'),\n",
    "    [Input(\"dropdown-sequence\", \"value\"), \n",
    "     Input(\"dropdown-distance\", \"value\")])\n",
    "def update_bar_chart(seq_type, distance_type):\n",
    "    \n",
    "    metric_type_id = distance_type           \n",
    "    sequence_type_id = seq_type\n",
    "    \n",
    "    figs_ids = [1, 2, 3]\n",
    "    figs = []\n",
    "    for fid in figs_ids:\n",
    "        fig, rows = create_figure_plot(state_type_id=fid, \n",
    "                                 metric_type_id=metric_type_id,\n",
    "                                 sequence_type_id=sequence_type_id)\n",
    "        figs.append(fig)\n",
    "        figs.append(rows)\n",
    "    \n",
    "    \n",
    "    return figs[0], figs[1], figs[2], figs[3], figs[4], figs[5],"
   ]
  },
  {
   "cell_type": "code",
   "execution_count": 17,
   "metadata": {
    "scrolled": false
   },
   "outputs": [
    {
     "name": "stdout",
     "output_type": "stream",
     "text": [
      "Dash app running on http://127.0.0.1:8050/\n",
      "INFO: Executing sql=SELECT value FROM repeats_distances WHERE          hmm_state_id_1 = 1 AND  hmm_state_id_2 = 1         AND metric_type_id=1 AND sequence_type_id=1\n",
      "INFO: Fetched number of rows=189544\n",
      "INFO: Executing sql=SELECT value FROM repeats_distances WHERE          hmm_state_id_1 = 2 AND  hmm_state_id_2 = 2         AND metric_type_id=1 AND sequence_type_id=1\n",
      "INFO: Fetched number of rows=683427\n",
      "INFO: Executing sql=SELECT value FROM repeats_distances WHERE          hmm_state_id_1 = 3 AND  hmm_state_id_2 = 3         AND metric_type_id=1 AND sequence_type_id=1\n",
      "INFO: Fetched number of rows=318229\n",
      "INFO: Executing sql=SELECT value FROM repeats_distances WHERE          hmm_state_id_1 = 1 AND  hmm_state_id_2 = 1         AND metric_type_id=1 AND sequence_type_id=2\n",
      "INFO: Fetched number of rows=189544\n",
      "INFO: Executing sql=SELECT value FROM repeats_distances WHERE          hmm_state_id_1 = 2 AND  hmm_state_id_2 = 2         AND metric_type_id=1 AND sequence_type_id=2\n",
      "INFO: Fetched number of rows=683427\n",
      "INFO: Executing sql=SELECT value FROM repeats_distances WHERE          hmm_state_id_1 = 3 AND  hmm_state_id_2 = 3         AND metric_type_id=1 AND sequence_type_id=2\n"
     ]
    }
   ],
   "source": [
    "# Run app and display result inline in the notebook\n",
    "app.run_server(mode='external', use_reloader=False)"
   ]
  },
  {
   "cell_type": "code",
   "execution_count": null,
   "metadata": {},
   "outputs": [],
   "source": []
  }
 ],
 "metadata": {
  "kernelspec": {
   "display_name": "Python 3",
   "language": "python",
   "name": "python3"
  },
  "language_info": {
   "codemirror_mode": {
    "name": "ipython",
    "version": 3
   },
   "file_extension": ".py",
   "mimetype": "text/x-python",
   "name": "python",
   "nbconvert_exporter": "python",
   "pygments_lexer": "ipython3",
   "version": "3.8.5"
  }
 },
 "nbformat": 4,
 "nbformat_minor": 4
}
