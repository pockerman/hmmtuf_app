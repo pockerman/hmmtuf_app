{
 "cells": [
  {
   "cell_type": "code",
   "execution_count": 1,
   "metadata": {},
   "outputs": [],
   "source": [
    "import sys\n",
    "import numpy as np\n",
    "from pathlib import Path\n",
    "import matplotlib.pyplot as plt\n",
    "import seaborn as sns"
   ]
  },
  {
   "cell_type": "code",
   "execution_count": 2,
   "metadata": {},
   "outputs": [],
   "source": [
    "if \"/home/alex/qi3/hmmtuf\" not in sys.path:\n",
    "    sys.path.append(\"/home/alex/qi3/hmmtuf\")"
   ]
  },
  {
   "cell_type": "code",
   "execution_count": 3,
   "metadata": {},
   "outputs": [],
   "source": [
    "from db.sqlite3_db_connector import SQLiteDBConnector\n",
    "from compute_engine.src.classification.trainer import Trainer\n",
    "from compute_engine.src.classification.logistic_regressor import LogisticRegressor\n",
    "from compute_engine.src.enumeration_types import ClassifierType\n",
    "from compute_engine.src.enumeration_types import BackendType"
   ]
  },
  {
   "cell_type": "code",
   "execution_count": 4,
   "metadata": {},
   "outputs": [],
   "source": [
    "# the regressor\n",
    "regressor = LogisticRegressor(regressor_type=ClassifierType.SKLEARN_LOGISTIC_REGRESSOR)"
   ]
  },
  {
   "cell_type": "code",
   "execution_count": 5,
   "metadata": {},
   "outputs": [],
   "source": [
    "trainer_options = {\"model\": regressor, \"backend_type\": BackendType.SKLEARN}"
   ]
  },
  {
   "cell_type": "code",
   "execution_count": 6,
   "metadata": {},
   "outputs": [],
   "source": [
    "# the trainer class \n",
    "trainer = Trainer(options=trainer_options)"
   ]
  },
  {
   "cell_type": "code",
   "execution_count": 7,
   "metadata": {},
   "outputs": [
    {
     "name": "stdout",
     "output_type": "stream",
     "text": [
      "{'model': <compute_engine.src.classification.logistic_regressor.LogisticRegressor object at 0x7fc67c34bee0>, 'backend_type': <BackendType.SKLEARN: 0>}\n"
     ]
    }
   ],
   "source": [
    "# train\n",
    "trainer.train()"
   ]
  },
  {
   "cell_type": "code",
   "execution_count": null,
   "metadata": {},
   "outputs": [],
   "source": []
  }
 ],
 "metadata": {
  "kernelspec": {
   "display_name": "Python 3",
   "language": "python",
   "name": "python3"
  },
  "language_info": {
   "codemirror_mode": {
    "name": "ipython",
    "version": 3
   },
   "file_extension": ".py",
   "mimetype": "text/x-python",
   "name": "python",
   "nbconvert_exporter": "python",
   "pygments_lexer": "ipython3",
   "version": "3.8.5"
  }
 },
 "nbformat": 4,
 "nbformat_minor": 4
}
